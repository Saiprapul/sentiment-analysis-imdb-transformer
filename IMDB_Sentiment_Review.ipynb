{
  "nbformat": 4,
  "nbformat_minor": 0,
  "metadata": {
    "colab": {
      "provenance": [],
      "gpuType": "T4",
      "authorship_tag": "ABX9TyNcXmW/TzrSwnPTZF8R0+Ar",
      "include_colab_link": true
    },
    "kernelspec": {
      "name": "python3",
      "display_name": "Python 3"
    },
    "language_info": {
      "name": "python"
    },
    "accelerator": "GPU"
  },
  "cells": [
    {
      "cell_type": "markdown",
      "metadata": {
        "id": "view-in-github",
        "colab_type": "text"
      },
      "source": [
        "<a href=\"https://colab.research.google.com/github/Saiprapul/sentiment-analysis-imdb-transformer/blob/main/IMDB_Sentiment_Review.ipynb\" target=\"_parent\"><img src=\"https://colab.research.google.com/assets/colab-badge.svg\" alt=\"Open In Colab\"/></a>"
      ]
    },
    {
      "cell_type": "code",
      "source": [
        "# Import necessary libraries\n",
        "!pip install transformers datasets\n",
        "import torch\n",
        "from torch.utils.data import DataLoader\n",
        "from transformers import AutoTokenizer, AutoModelForSequenceClassification, AdamW, get_scheduler, DataCollatorWithPadding\n",
        "from datasets import load_dataset\n",
        "from tqdm.auto import tqdm\n",
        "\n",
        "# Step 1: Load the IMDB dataset\n",
        "import os\n",
        "os.system('pip install datasets')\n",
        "dataset = load_dataset('imdb')\n",
        "\n",
        "# Step 2: Load the tokenizer and model\n",
        "model_name = \"distilbert-base-uncased\"\n",
        "tokenizer = AutoTokenizer.from_pretrained(model_name)\n",
        "model = AutoModelForSequenceClassification.from_pretrained(model_name, num_labels=2)\n",
        "\n",
        "# Step 3.1: Tokenize and prepare the dataset\n",
        "def tokenize_function(example):\n",
        "    return tokenizer(example[\"text\"], truncation=True)\n",
        "\n",
        "tokenized_datasets = dataset.map(tokenize_function, batched=True)\n",
        "data_collator = DataCollatorWithPadding(tokenizer=tokenizer)\n",
        "tokenized_datasets.set_format(type=\"torch\", columns=[\"input_ids\", \"attention_mask\", \"label\"])\n",
        "\n",
        "# Step 3.2: Prepare DataLoader\n",
        "# Use a smaller subset of the dataset for faster training\n",
        "#small_train_dataset = tokenized_datasets[\"train\"].shuffle(seed=42).select(range(1000))\n",
        "#small_test_dataset = tokenized_datasets[\"test\"].shuffle(seed=42).select(range(500))\n",
        "\n",
        "# Create DataLoaders with smaller datasets and increased batch size\n",
        "train_dataloader = DataLoader(tokenized_datasets[\"train\"], shuffle=True, batch_size=8, collate_fn=data_collator)\n",
        "test_dataloader = DataLoader(tokenized_datasets[\"test\"], batch_size=8, collate_fn=data_collator)\n",
        "\n",
        "# Step 3.3: Fine-tune the model\n",
        "# Set up the optimizer and learning rate scheduler\n",
        "optimizer = AdamW(model.parameters(), lr=5e-5)\n",
        "num_epochs = 3  # Reduce the number of epochs for faster training\n",
        "num_training_steps = num_epochs * len(train_dataloader)\n",
        "lr_scheduler = get_scheduler(\n",
        "    \"linear\",\n",
        "    optimizer=optimizer,\n",
        "    num_warmup_steps=0,\n",
        "    num_training_steps=num_training_steps\n",
        ")\n",
        "\n",
        "# Set up device and start training\n",
        "device = torch.device(\"cuda\") if torch.cuda.is_available() else torch.device(\"cpu\")\n",
        "model.to(device)\n",
        "\n",
        "progress_bar = tqdm(range(num_training_steps))\n",
        "model.train()\n",
        "\n",
        "for epoch in range(num_epochs):\n",
        "    for batch in train_dataloader:\n",
        "        # Move batch to device\n",
        "        batch = {k: v.to(device) for k, v in batch.items()}\n",
        "\n",
        "        # Forward pass\n",
        "        outputs = model(**batch)\n",
        "        loss = outputs.loss\n",
        "\n",
        "        # Backward pass\n",
        "        loss.backward()\n",
        "\n",
        "        # Optimizer step and learning rate scheduler update\n",
        "        optimizer.step()\n",
        "        lr_scheduler.step()\n",
        "        optimizer.zero_grad()\n",
        "\n",
        "        progress_bar.update(1)\n",
        "\n",
        "print(\"Model fine-tuning completed!\")\n"
      ],
      "metadata": {
        "id": "j2u-uKcp2bKy"
      },
      "execution_count": null,
      "outputs": []
    },
    {
      "cell_type": "code",
      "source": [
        "# Step 4: Evaluation\n",
        "!pip install evaluate\n",
        "from evaluate import load\n",
        "\n",
        "# Set model to evaluation mode\n",
        "model.eval()\n",
        "\n",
        "# Load metrics for evaluation\n",
        "accuracy_metric = load(\"accuracy\")\n",
        "f1_metric = load(\"f1\")\n",
        "\n",
        "# Run the test loop\n",
        "for batch in test_dataloader:\n",
        "    # Move batch to device\n",
        "    batch = {k: v.to(device) for k, v in batch.items()}\n",
        "\n",
        "    # Forward pass (no gradient calculation)\n",
        "    with torch.no_grad():\n",
        "        outputs = model(**batch)\n",
        "\n",
        "    # Get logits and calculate predictions\n",
        "    logits = outputs.logits\n",
        "\n",
        "    predictions = torch.argmax(logits, dim=-1)\n",
        "\n",
        "    # Add predictions and true labels to metrics\n",
        "    accuracy_metric.add_batch(predictions=predictions, references=batch[\"labels\"])\n",
        "    f1_metric.add_batch(predictions=predictions, references=batch[\"labels\"])\n",
        "\n",
        "# Compute final metrics\n",
        "accuracy = accuracy_metric.compute()[\"accuracy\"]\n",
        "f1 = f1_metric.compute()[\"f1\"]\n",
        "\n",
        "print(f\"Test Accuracy: {accuracy:.2f}\")\n",
        "print(f\"Test F1-Score: {f1:.2f}\")"
      ],
      "metadata": {
        "id": "Phg4zJNwnOdQ"
      },
      "execution_count": null,
      "outputs": []
    },
    {
      "cell_type": "code",
      "source": [
        "# Set model to evaluation mode\n",
        "model.eval()\n",
        "\n",
        "# Custom review to test\n",
        "review = \"The movie was just okay. Nothing special, but nothing too bad either.\"\n",
        "\n",
        "# Step 1: Tokenize the input review\n",
        "inputs = tokenizer(review, return_tensors=\"pt\", truncation=True, padding=True)\n",
        "\n",
        "# Step 2: Move inputs to the appropriate device (CPU/GPU)\n",
        "inputs = {k: v.to(device) for k, v in inputs.items()}\n",
        "\n",
        "# Step 3: Run the model on the tokenized review\n",
        "with torch.no_grad():\n",
        "    outputs = model(**inputs)\n",
        "\n",
        "# Step 4: Get logits and calculate predictions\n",
        "logits = outputs.logits\n",
        "predictions = torch.argmax(logits, dim=-1)\n",
        "\n",
        "# Step 5: Interpret the result\n",
        "sentiment = \"positive\" if predictions.item() == 1 else \"negative\"\n",
        "print(f\"The sentiment of the review is: {sentiment}\")\n"
      ],
      "metadata": {
        "colab": {
          "base_uri": "https://localhost:8080/"
        },
        "id": "KbXMZFW8qllD",
        "outputId": "74a2ce5e-e27d-429c-8068-8e15a54a30f5"
      },
      "execution_count": 12,
      "outputs": [
        {
          "output_type": "stream",
          "name": "stdout",
          "text": [
            "The sentiment of the review is: negative\n"
          ]
        }
      ]
    }
  ]
}